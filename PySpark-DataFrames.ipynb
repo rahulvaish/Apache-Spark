{
 "cells": [
  {
   "cell_type": "code",
   "execution_count": 1,
   "metadata": {},
   "outputs": [],
   "source": [
    "from pyspark import SparkConf, SparkContext\n",
    "from pyspark.sql import SQLContext\n",
    "sc= SparkContext()\n",
    "sqlContext = SQLContext(sc)"
   ]
  },
  {
   "cell_type": "code",
   "execution_count": 2,
   "metadata": {},
   "outputs": [
    {
     "data": {
      "text/html": [
       "\n",
       "        <div>\n",
       "            <p><b>SparkContext</b></p>\n",
       "\n",
       "            <p><a href=\"http://LH7U05CG7425KM7.ms.ds.uhc.com:4041\">Spark UI</a></p>\n",
       "\n",
       "            <dl>\n",
       "              <dt>Version</dt>\n",
       "                <dd><code>v2.3.1</code></dd>\n",
       "              <dt>Master</dt>\n",
       "                <dd><code>local[*]</code></dd>\n",
       "              <dt>AppName</dt>\n",
       "                <dd><code>pyspark-shell</code></dd>\n",
       "            </dl>\n",
       "        </div>\n",
       "        "
      ],
      "text/plain": [
       "<SparkContext master=local[*] appName=pyspark-shell>"
      ]
     },
     "execution_count": 2,
     "metadata": {},
     "output_type": "execute_result"
    }
   ],
   "source": [
    "sc"
   ]
  },
  {
   "cell_type": "code",
   "execution_count": 3,
   "metadata": {},
   "outputs": [
    {
     "data": {
      "text/plain": [
       "<pyspark.sql.context.SQLContext at 0x382cb70>"
      ]
     },
     "execution_count": 3,
     "metadata": {},
     "output_type": "execute_result"
    }
   ],
   "source": [
    "sqlContext"
   ]
  },
  {
   "cell_type": "markdown",
   "metadata": {},
   "source": [
    "### Loading CSV in PySpark"
   ]
  },
  {
   "cell_type": "code",
   "execution_count": 4,
   "metadata": {},
   "outputs": [],
   "source": [
    "sparkData = sqlContext.read.format(\"com.databricks.spark.csv\").options(delimiter=',',header  = True ,inferSchema = True).load('C://Users//rvaish//Desktop//J U N K//MyFolder//iris.csv')"
   ]
  },
  {
   "cell_type": "code",
   "execution_count": 5,
   "metadata": {},
   "outputs": [
    {
     "data": {
      "text/plain": [
       "pyspark.sql.dataframe.DataFrame"
      ]
     },
     "execution_count": 5,
     "metadata": {},
     "output_type": "execute_result"
    }
   ],
   "source": [
    "type(sparkData)"
   ]
  },
  {
   "cell_type": "markdown",
   "metadata": {},
   "source": [
    "### Display PySpark Dataframe"
   ]
  },
  {
   "cell_type": "code",
   "execution_count": 6,
   "metadata": {},
   "outputs": [
    {
     "name": "stdout",
     "output_type": "stream",
     "text": [
      "+-----------+----------+-----------+----------+-----+\n",
      "|sepallength|sepalwidth|petallength|petalwidth|class|\n",
      "+-----------+----------+-----------+----------+-----+\n",
      "|        4.7|       3.2|        1.3|       0.2|    1|\n",
      "|        4.6|       3.1|        1.5|       0.2|    1|\n",
      "|        5.0|       3.6|        1.4|       0.2|    1|\n",
      "|        5.4|       3.9|        1.7|       0.4|    1|\n",
      "|        4.6|       3.4|        1.4|       0.3|    1|\n",
      "|        5.0|       3.4|        1.5|       0.2|    1|\n",
      "|        4.4|       2.9|        1.4|       0.2|    1|\n",
      "|        4.9|       3.1|        1.5|       0.1|    1|\n",
      "|        5.4|       3.7|        1.5|       0.2|    1|\n",
      "|        4.8|       3.4|        1.6|       0.2|    1|\n",
      "+-----------+----------+-----------+----------+-----+\n",
      "only showing top 10 rows\n",
      "\n"
     ]
    }
   ],
   "source": [
    "sparkData.show(10)"
   ]
  },
  {
   "cell_type": "markdown",
   "metadata": {},
   "source": [
    "### Display PySpark Dataframe's Columns"
   ]
  },
  {
   "cell_type": "code",
   "execution_count": 7,
   "metadata": {},
   "outputs": [
    {
     "data": {
      "text/plain": [
       "['sepallength', 'sepalwidth', 'petallength', 'petalwidth', 'class']"
      ]
     },
     "execution_count": 7,
     "metadata": {},
     "output_type": "execute_result"
    }
   ],
   "source": [
    "sparkData.columns"
   ]
  },
  {
   "cell_type": "markdown",
   "metadata": {},
   "source": [
    "### Display count of of PySpark Dataframe's Columns"
   ]
  },
  {
   "cell_type": "code",
   "execution_count": 8,
   "metadata": {},
   "outputs": [
    {
     "data": {
      "text/plain": [
       "5"
      ]
     },
     "execution_count": 8,
     "metadata": {},
     "output_type": "execute_result"
    }
   ],
   "source": [
    "len(sparkData.columns)"
   ]
  },
  {
   "cell_type": "markdown",
   "metadata": {},
   "source": [
    "### Display count of PySpark Dataframe's rows "
   ]
  },
  {
   "cell_type": "code",
   "execution_count": 9,
   "metadata": {},
   "outputs": [
    {
     "data": {
      "text/plain": [
       "148"
      ]
     },
     "execution_count": 9,
     "metadata": {},
     "output_type": "execute_result"
    }
   ],
   "source": [
    "#If pandas, this would have worked!\n",
    "#len(sparkData)\n",
    "#For PySpark\n",
    "sparkData.count()"
   ]
  },
  {
   "cell_type": "markdown",
   "metadata": {},
   "source": [
    "### Rename PySpark Dataframe's Columns "
   ]
  },
  {
   "cell_type": "code",
   "execution_count": 10,
   "metadata": {},
   "outputs": [
    {
     "name": "stdout",
     "output_type": "stream",
     "text": [
      "+---+---+---+---+---+\n",
      "|  A|  B|  C|  D|  E|\n",
      "+---+---+---+---+---+\n",
      "|4.7|3.2|1.3|0.2|  1|\n",
      "|4.6|3.1|1.5|0.2|  1|\n",
      "|5.0|3.6|1.4|0.2|  1|\n",
      "|5.4|3.9|1.7|0.4|  1|\n",
      "+---+---+---+---+---+\n",
      "only showing top 4 rows\n",
      "\n"
     ]
    }
   ],
   "source": [
    "#If pandas, this would have worked!\n",
    "#sparkData.columns = ['A','B','C','D','E']\n",
    "#For PySpark\n",
    "sparkData.toDF('A','B','C','D','E').show(4)"
   ]
  },
  {
   "cell_type": "markdown",
   "metadata": {},
   "source": [
    "###  PySpark Dataframe's Cell Selction "
   ]
  },
  {
   "cell_type": "code",
   "execution_count": 12,
   "metadata": {},
   "outputs": [
    {
     "data": {
      "text/plain": [
       "0.2"
      ]
     },
     "execution_count": 12,
     "metadata": {},
     "output_type": "execute_result"
    }
   ],
   "source": [
    "sparkData.collect()[0][3]"
   ]
  },
  {
   "cell_type": "code",
   "execution_count": 27,
   "metadata": {},
   "outputs": [],
   "source": [
    "#sparkData.collect()"
   ]
  },
  {
   "cell_type": "markdown",
   "metadata": {},
   "source": [
    "###  PySpark Dataframe's Column Selction [WAY#1]"
   ]
  },
  {
   "cell_type": "code",
   "execution_count": 12,
   "metadata": {},
   "outputs": [
    {
     "name": "stdout",
     "output_type": "stream",
     "text": [
      "+-----------+-----------+\n",
      "|sepallength|petallength|\n",
      "+-----------+-----------+\n",
      "|        4.7|        1.3|\n",
      "|        4.6|        1.5|\n",
      "|        5.0|        1.4|\n",
      "|        5.4|        1.7|\n",
      "|        4.6|        1.4|\n",
      "+-----------+-----------+\n",
      "only showing top 5 rows\n",
      "\n"
     ]
    }
   ],
   "source": [
    "#If pandas, this would have worked!\n",
    "#sparkData[['sepallength','petallength']]\n",
    "#For PySpark\n",
    "sparkData[['sepallength','petallength']].show(5)"
   ]
  },
  {
   "cell_type": "markdown",
   "metadata": {},
   "source": [
    "###  PySpark Dataframe's Column Selction [WAY#2]"
   ]
  },
  {
   "cell_type": "code",
   "execution_count": 13,
   "metadata": {},
   "outputs": [
    {
     "name": "stdout",
     "output_type": "stream",
     "text": [
      "+-----------+-----------+\n",
      "|sepallength|petallength|\n",
      "+-----------+-----------+\n",
      "|        4.7|        1.3|\n",
      "|        4.6|        1.5|\n",
      "|        5.0|        1.4|\n",
      "|        5.4|        1.7|\n",
      "|        4.6|        1.4|\n",
      "|        5.0|        1.5|\n",
      "|        4.4|        1.4|\n",
      "|        4.9|        1.5|\n",
      "|        5.4|        1.5|\n",
      "|        4.8|        1.6|\n",
      "+-----------+-----------+\n",
      "only showing top 10 rows\n",
      "\n"
     ]
    }
   ],
   "source": [
    "sparkData.select('sepallength','petallength').show(10)"
   ]
  },
  {
   "cell_type": "markdown",
   "metadata": {},
   "source": [
    "###  PythonStyleQuery on PySpark Dataframe [WAY#1] "
   ]
  },
  {
   "cell_type": "code",
   "execution_count": 14,
   "metadata": {},
   "outputs": [
    {
     "name": "stdout",
     "output_type": "stream",
     "text": [
      "+-----------+----------+-----------+----------+-----+\n",
      "|sepallength|sepalwidth|petallength|petalwidth|class|\n",
      "+-----------+----------+-----------+----------+-----+\n",
      "|        4.7|       3.2|        1.3|       0.2|    1|\n",
      "|        4.7|       3.2|        1.6|       0.2|    1|\n",
      "+-----------+----------+-----------+----------+-----+\n",
      "\n"
     ]
    }
   ],
   "source": [
    "sparkData.filter(sparkData.sepallength=='4.7').show()"
   ]
  },
  {
   "cell_type": "markdown",
   "metadata": {},
   "source": [
    "###  PythonStyleQuery on PySpark Dataframe [WAY#2] "
   ]
  },
  {
   "cell_type": "code",
   "execution_count": 15,
   "metadata": {},
   "outputs": [
    {
     "name": "stdout",
     "output_type": "stream",
     "text": [
      "+-----------+----------+-----------+----------+-----+\n",
      "|sepallength|sepalwidth|petallength|petalwidth|class|\n",
      "+-----------+----------+-----------+----------+-----+\n",
      "|        4.7|       3.2|        1.3|       0.2|    1|\n",
      "|        4.6|       3.1|        1.5|       0.2|    1|\n",
      "|        5.0|       3.6|        1.4|       0.2|    1|\n",
      "|        5.4|       3.9|        1.7|       0.4|    1|\n",
      "|        4.6|       3.4|        1.4|       0.3|    1|\n",
      "+-----------+----------+-----------+----------+-----+\n",
      "only showing top 5 rows\n",
      "\n"
     ]
    }
   ],
   "source": [
    "#If pandas, this would have worked!\n",
    "#sparkData[(sparkData['sepalwidth'] > 2) & (sparkData['sepalwidth'] > 2)]\n",
    "#For PySpark\n",
    "sparkData[(sparkData['sepalwidth'] > 2) & (sparkData['sepalwidth'] > 2)].show(5)"
   ]
  },
  {
   "cell_type": "markdown",
   "metadata": {},
   "source": [
    "### Dropping Columns in PySpark Dataframe"
   ]
  },
  {
   "cell_type": "code",
   "execution_count": 16,
   "metadata": {},
   "outputs": [],
   "source": [
    "sparkDataWitoutClass = sparkData.drop('class')"
   ]
  },
  {
   "cell_type": "code",
   "execution_count": 17,
   "metadata": {},
   "outputs": [
    {
     "name": "stdout",
     "output_type": "stream",
     "text": [
      "+-----------+----------+-----------+----------+\n",
      "|sepallength|sepalwidth|petallength|petalwidth|\n",
      "+-----------+----------+-----------+----------+\n",
      "|        4.7|       3.2|        1.3|       0.2|\n",
      "|        4.6|       3.1|        1.5|       0.2|\n",
      "|        5.0|       3.6|        1.4|       0.2|\n",
      "+-----------+----------+-----------+----------+\n",
      "only showing top 3 rows\n",
      "\n"
     ]
    }
   ],
   "source": [
    "sparkDataWitoutClass.show(3)"
   ]
  },
  {
   "cell_type": "markdown",
   "metadata": {},
   "source": [
    "### Dropping off Rows (on condition)"
   ]
  },
  {
   "cell_type": "code",
   "execution_count": 18,
   "metadata": {},
   "outputs": [
    {
     "name": "stdout",
     "output_type": "stream",
     "text": [
      "+-----------+----------+-----------+----------+\n",
      "|sepallength|sepalwidth|petallength|petalwidth|\n",
      "+-----------+----------+-----------+----------+\n",
      "|        5.7|       4.4|        1.5|       0.4|\n",
      "|        5.2|       4.1|        1.5|       0.1|\n",
      "|        5.5|       4.2|        1.4|       0.2|\n",
      "+-----------+----------+-----------+----------+\n",
      "\n"
     ]
    }
   ],
   "source": [
    "sparkDataWitoutClassAndfilterOnData = sparkDataWitoutClass.where(\"sepalwidth>4\")\n",
    "sparkDataWitoutClassAndfilterOnData.show()"
   ]
  },
  {
   "cell_type": "markdown",
   "metadata": {},
   "source": [
    "### Performing SQL Queries\n",
    "\n",
    "SQL Queries cannot be written in Pandas."
   ]
  },
  {
   "cell_type": "code",
   "execution_count": 19,
   "metadata": {},
   "outputs": [
    {
     "name": "stdout",
     "output_type": "stream",
     "text": [
      "+-----------+----------+-----------+----------+-----+\n",
      "|sepallength|sepalwidth|petallength|petalwidth|class|\n",
      "+-----------+----------+-----------+----------+-----+\n",
      "|        4.7|       3.2|        1.3|       0.2|    1|\n",
      "|        4.6|       3.1|        1.5|       0.2|    1|\n",
      "|        5.0|       3.6|        1.4|       0.2|    1|\n",
      "|        5.4|       3.9|        1.7|       0.4|    1|\n",
      "+-----------+----------+-----------+----------+-----+\n",
      "only showing top 4 rows\n",
      "\n"
     ]
    }
   ],
   "source": [
    "sparkData.registerTempTable('sparkDataTable')\n",
    "sqlContext.sql('select * from sparkDataTable').show(4)"
   ]
  },
  {
   "cell_type": "markdown",
   "metadata": {},
   "source": [
    "### Aggregate Methods"
   ]
  },
  {
   "cell_type": "code",
   "execution_count": 20,
   "metadata": {},
   "outputs": [
    {
     "name": "stdout",
     "output_type": "stream",
     "text": [
      "+---------------+\n",
      "|max(sepalwidth)|\n",
      "+---------------+\n",
      "|            4.4|\n",
      "+---------------+\n",
      "\n"
     ]
    }
   ],
   "source": [
    "#If pandas, this would have worked!\n",
    "#sparkData['A'].min()\n",
    "#min(sparkData['A'])\n",
    "#For PySpark\n",
    "from pyspark.sql.functions import max\n",
    "sparkData.agg(max(sparkData.sepalwidth)).show()"
   ]
  },
  {
   "cell_type": "code",
   "execution_count": 21,
   "metadata": {},
   "outputs": [
    {
     "name": "stdout",
     "output_type": "stream",
     "text": [
      "+---------------+\n",
      "|min(sepalwidth)|\n",
      "+---------------+\n",
      "|            2.0|\n",
      "+---------------+\n",
      "\n"
     ]
    }
   ],
   "source": [
    "from pyspark.sql.functions import min\n",
    "sparkData.agg(min(sparkData.sepalwidth)).show()"
   ]
  },
  {
   "cell_type": "code",
   "execution_count": 22,
   "metadata": {},
   "outputs": [
    {
     "name": "stdout",
     "output_type": "stream",
     "text": [
      "+------------------+\n",
      "|   avg(sepalwidth)|\n",
      "+------------------+\n",
      "|3.0513513513513524|\n",
      "+------------------+\n",
      "\n"
     ]
    }
   ],
   "source": [
    "from pyspark.sql.functions import avg\n",
    "sparkData.agg(avg(sparkData.sepalwidth)).show()"
   ]
  },
  {
   "cell_type": "markdown",
   "metadata": {},
   "source": [
    "### SORTING"
   ]
  },
  {
   "cell_type": "code",
   "execution_count": 23,
   "metadata": {},
   "outputs": [
    {
     "data": {
      "text/plain": [
       "[Row(sepallength=5.0, sepalwidth=2.0, petallength=3.5, petalwidth=1.0, class=2),\n",
       " Row(sepallength=6.0, sepalwidth=2.2, petallength=4.0, petalwidth=1.0, class=2),\n",
       " Row(sepallength=6.2, sepalwidth=2.2, petallength=4.5, petalwidth=1.5, class=2),\n",
       " Row(sepallength=6.0, sepalwidth=2.2, petallength=5.0, petalwidth=1.5, class=3),\n",
       " Row(sepallength=4.5, sepalwidth=2.3, petallength=1.3, petalwidth=0.3, class=1),\n",
       " Row(sepallength=5.5, sepalwidth=2.3, petallength=4.0, petalwidth=1.3, class=2),\n",
       " Row(sepallength=6.3, sepalwidth=2.3, petallength=4.4, petalwidth=1.3, class=2),\n",
       " Row(sepallength=5.0, sepalwidth=2.3, petallength=3.3, petalwidth=1.0, class=2),\n",
       " Row(sepallength=4.9, sepalwidth=2.4, petallength=3.3, petalwidth=1.0, class=2),\n",
       " Row(sepallength=5.5, sepalwidth=2.4, petallength=3.8, petalwidth=1.1, class=2),\n",
       " Row(sepallength=5.5, sepalwidth=2.4, petallength=3.7, petalwidth=1.0, class=2),\n",
       " Row(sepallength=5.6, sepalwidth=2.5, petallength=3.9, petalwidth=1.1, class=2),\n",
       " Row(sepallength=6.3, sepalwidth=2.5, petallength=4.9, petalwidth=1.5, class=2),\n",
       " Row(sepallength=5.5, sepalwidth=2.5, petallength=4.0, petalwidth=1.3, class=2),\n",
       " Row(sepallength=5.1, sepalwidth=2.5, petallength=3.0, petalwidth=1.1, class=2),\n",
       " Row(sepallength=4.9, sepalwidth=2.5, petallength=4.5, petalwidth=1.7, class=3),\n",
       " Row(sepallength=6.7, sepalwidth=2.5, petallength=5.8, petalwidth=1.8, class=3),\n",
       " Row(sepallength=5.7, sepalwidth=2.5, petallength=5.0, petalwidth=2.0, class=3),\n",
       " Row(sepallength=6.3, sepalwidth=2.5, petallength=5.0, petalwidth=1.9, class=3),\n",
       " Row(sepallength=5.7, sepalwidth=2.6, petallength=3.5, petalwidth=1.0, class=2),\n",
       " Row(sepallength=5.5, sepalwidth=2.6, petallength=4.4, petalwidth=1.2, class=2),\n",
       " Row(sepallength=5.8, sepalwidth=2.6, petallength=4.0, petalwidth=1.2, class=2),\n",
       " Row(sepallength=7.7, sepalwidth=2.6, petallength=6.9, petalwidth=2.3, class=3),\n",
       " Row(sepallength=6.1, sepalwidth=2.6, petallength=5.6, petalwidth=1.4, class=3),\n",
       " Row(sepallength=5.2, sepalwidth=2.7, petallength=3.9, petalwidth=1.4, class=2),\n",
       " Row(sepallength=5.8, sepalwidth=2.7, petallength=4.1, petalwidth=1.0, class=2),\n",
       " Row(sepallength=5.8, sepalwidth=2.7, petallength=3.9, petalwidth=1.2, class=2),\n",
       " Row(sepallength=6.0, sepalwidth=2.7, petallength=5.1, petalwidth=1.6, class=2),\n",
       " Row(sepallength=5.6, sepalwidth=2.7, petallength=4.2, petalwidth=1.3, class=2),\n",
       " Row(sepallength=5.8, sepalwidth=2.7, petallength=5.1, petalwidth=1.9, class=3),\n",
       " Row(sepallength=6.4, sepalwidth=2.7, petallength=5.3, petalwidth=1.9, class=3),\n",
       " Row(sepallength=6.3, sepalwidth=2.7, petallength=4.9, petalwidth=1.8, class=3),\n",
       " Row(sepallength=5.8, sepalwidth=2.7, petallength=5.1, petalwidth=1.9, class=3),\n",
       " Row(sepallength=6.5, sepalwidth=2.8, petallength=4.6, petalwidth=1.5, class=2),\n",
       " Row(sepallength=5.7, sepalwidth=2.8, petallength=4.5, petalwidth=1.3, class=2),\n",
       " Row(sepallength=6.1, sepalwidth=2.8, petallength=4.0, petalwidth=1.3, class=2),\n",
       " Row(sepallength=6.1, sepalwidth=2.8, petallength=4.7, petalwidth=1.2, class=2),\n",
       " Row(sepallength=6.8, sepalwidth=2.8, petallength=4.8, petalwidth=1.4, class=2),\n",
       " Row(sepallength=5.7, sepalwidth=2.8, petallength=4.1, petalwidth=1.3, class=2),\n",
       " Row(sepallength=5.8, sepalwidth=2.8, petallength=5.1, petalwidth=2.4, class=3),\n",
       " Row(sepallength=5.6, sepalwidth=2.8, petallength=4.9, petalwidth=2.0, class=3),\n",
       " Row(sepallength=7.7, sepalwidth=2.8, petallength=6.7, petalwidth=2.0, class=3),\n",
       " Row(sepallength=6.2, sepalwidth=2.8, petallength=4.8, petalwidth=1.8, class=3),\n",
       " Row(sepallength=6.4, sepalwidth=2.8, petallength=5.6, petalwidth=2.1, class=3),\n",
       " Row(sepallength=7.4, sepalwidth=2.8, petallength=6.1, petalwidth=1.9, class=3),\n",
       " Row(sepallength=6.4, sepalwidth=2.8, petallength=5.6, petalwidth=2.2, class=3),\n",
       " Row(sepallength=6.3, sepalwidth=2.8, petallength=5.1, petalwidth=1.5, class=3),\n",
       " Row(sepallength=4.4, sepalwidth=2.9, petallength=1.4, petalwidth=0.2, class=1),\n",
       " Row(sepallength=6.6, sepalwidth=2.9, petallength=4.6, petalwidth=1.3, class=2),\n",
       " Row(sepallength=6.1, sepalwidth=2.9, petallength=4.7, petalwidth=1.4, class=2),\n",
       " Row(sepallength=5.6, sepalwidth=2.9, petallength=3.6, petalwidth=1.3, class=2),\n",
       " Row(sepallength=6.4, sepalwidth=2.9, petallength=4.3, petalwidth=1.3, class=2),\n",
       " Row(sepallength=6.0, sepalwidth=2.9, petallength=4.5, petalwidth=1.5, class=2),\n",
       " Row(sepallength=5.7, sepalwidth=2.9, petallength=4.2, petalwidth=1.3, class=2),\n",
       " Row(sepallength=6.2, sepalwidth=2.9, petallength=4.3, petalwidth=1.3, class=2),\n",
       " Row(sepallength=6.3, sepalwidth=2.9, petallength=5.6, petalwidth=1.8, class=3),\n",
       " Row(sepallength=7.3, sepalwidth=2.9, petallength=6.3, petalwidth=1.8, class=3),\n",
       " Row(sepallength=4.8, sepalwidth=3.0, petallength=1.4, petalwidth=0.1, class=1),\n",
       " Row(sepallength=4.3, sepalwidth=3.0, petallength=1.1, petalwidth=0.1, class=1),\n",
       " Row(sepallength=5.0, sepalwidth=3.0, petallength=1.6, petalwidth=0.2, class=1),\n",
       " Row(sepallength=4.4, sepalwidth=3.0, petallength=1.3, petalwidth=0.2, class=1),\n",
       " Row(sepallength=4.8, sepalwidth=3.0, petallength=1.4, petalwidth=0.3, class=1),\n",
       " Row(sepallength=5.9, sepalwidth=3.0, petallength=4.2, petalwidth=1.5, class=2),\n",
       " Row(sepallength=5.6, sepalwidth=3.0, petallength=4.5, petalwidth=1.5, class=2),\n",
       " Row(sepallength=6.6, sepalwidth=3.0, petallength=4.4, petalwidth=1.4, class=2),\n",
       " Row(sepallength=6.7, sepalwidth=3.0, petallength=5.0, petalwidth=1.7, class=2),\n",
       " Row(sepallength=5.4, sepalwidth=3.0, petallength=4.5, petalwidth=1.5, class=2),\n",
       " Row(sepallength=5.6, sepalwidth=3.0, petallength=4.1, petalwidth=1.3, class=2),\n",
       " Row(sepallength=6.1, sepalwidth=3.0, petallength=4.6, petalwidth=1.4, class=2),\n",
       " Row(sepallength=5.7, sepalwidth=3.0, petallength=4.2, petalwidth=1.2, class=2),\n",
       " Row(sepallength=7.1, sepalwidth=3.0, petallength=5.9, petalwidth=2.1, class=3),\n",
       " Row(sepallength=6.5, sepalwidth=3.0, petallength=5.8, petalwidth=2.2, class=3),\n",
       " Row(sepallength=7.6, sepalwidth=3.0, petallength=6.6, petalwidth=2.1, class=3),\n",
       " Row(sepallength=6.8, sepalwidth=3.0, petallength=5.5, petalwidth=2.1, class=3),\n",
       " Row(sepallength=6.5, sepalwidth=3.0, petallength=5.5, petalwidth=1.8, class=3),\n",
       " Row(sepallength=6.1, sepalwidth=3.0, petallength=4.9, petalwidth=1.8, class=3),\n",
       " Row(sepallength=7.2, sepalwidth=3.0, petallength=5.8, petalwidth=1.6, class=3),\n",
       " Row(sepallength=7.7, sepalwidth=3.0, petallength=6.1, petalwidth=2.3, class=3),\n",
       " Row(sepallength=6.0, sepalwidth=3.0, petallength=4.8, petalwidth=1.8, class=3),\n",
       " Row(sepallength=6.7, sepalwidth=3.0, petallength=5.2, petalwidth=2.3, class=3),\n",
       " Row(sepallength=6.5, sepalwidth=3.0, petallength=5.2, petalwidth=2.0, class=3),\n",
       " Row(sepallength=5.9, sepalwidth=3.0, petallength=5.1, petalwidth=1.8, class=3),\n",
       " Row(sepallength=4.6, sepalwidth=3.1, petallength=1.5, petalwidth=0.2, class=1),\n",
       " Row(sepallength=4.9, sepalwidth=3.1, petallength=1.5, petalwidth=0.1, class=1),\n",
       " Row(sepallength=4.8, sepalwidth=3.1, petallength=1.6, petalwidth=0.2, class=1),\n",
       " Row(sepallength=4.9, sepalwidth=3.1, petallength=1.5, petalwidth=0.1, class=1),\n",
       " Row(sepallength=4.9, sepalwidth=3.1, petallength=1.5, petalwidth=0.1, class=1),\n",
       " Row(sepallength=6.9, sepalwidth=3.1, petallength=4.9, petalwidth=1.5, class=2),\n",
       " Row(sepallength=6.7, sepalwidth=3.1, petallength=4.4, petalwidth=1.4, class=2),\n",
       " Row(sepallength=6.7, sepalwidth=3.1, petallength=4.7, petalwidth=1.5, class=2),\n",
       " Row(sepallength=6.4, sepalwidth=3.1, petallength=5.5, petalwidth=1.8, class=3),\n",
       " Row(sepallength=6.9, sepalwidth=3.1, petallength=5.4, petalwidth=2.1, class=3),\n",
       " Row(sepallength=6.7, sepalwidth=3.1, petallength=5.6, petalwidth=2.4, class=3),\n",
       " Row(sepallength=6.9, sepalwidth=3.1, petallength=5.1, petalwidth=2.3, class=3),\n",
       " Row(sepallength=4.7, sepalwidth=3.2, petallength=1.3, petalwidth=0.2, class=1),\n",
       " Row(sepallength=4.7, sepalwidth=3.2, petallength=1.6, petalwidth=0.2, class=1),\n",
       " Row(sepallength=5.0, sepalwidth=3.2, petallength=1.2, petalwidth=0.2, class=1),\n",
       " Row(sepallength=4.4, sepalwidth=3.2, petallength=1.3, petalwidth=0.2, class=1),\n",
       " Row(sepallength=4.6, sepalwidth=3.2, petallength=1.4, petalwidth=0.2, class=1),\n",
       " Row(sepallength=7.0, sepalwidth=3.2, petallength=4.7, petalwidth=1.4, class=2),\n",
       " Row(sepallength=6.4, sepalwidth=3.2, petallength=4.5, petalwidth=1.5, class=2),\n",
       " Row(sepallength=5.9, sepalwidth=3.2, petallength=4.8, petalwidth=1.8, class=2),\n",
       " Row(sepallength=6.5, sepalwidth=3.2, petallength=5.1, petalwidth=2.0, class=3),\n",
       " Row(sepallength=6.4, sepalwidth=3.2, petallength=5.3, petalwidth=2.3, class=3),\n",
       " Row(sepallength=6.9, sepalwidth=3.2, petallength=5.7, petalwidth=2.3, class=3),\n",
       " Row(sepallength=7.2, sepalwidth=3.2, petallength=6.0, petalwidth=1.8, class=3),\n",
       " Row(sepallength=6.8, sepalwidth=3.2, petallength=5.9, petalwidth=2.3, class=3),\n",
       " Row(sepallength=5.1, sepalwidth=3.3, petallength=1.7, petalwidth=0.5, class=1),\n",
       " Row(sepallength=5.0, sepalwidth=3.3, petallength=1.4, petalwidth=0.2, class=1),\n",
       " Row(sepallength=6.3, sepalwidth=3.3, petallength=4.7, petalwidth=1.6, class=2),\n",
       " Row(sepallength=6.3, sepalwidth=3.3, petallength=6.0, petalwidth=2.5, class=3),\n",
       " Row(sepallength=6.7, sepalwidth=3.3, petallength=5.7, petalwidth=2.1, class=3),\n",
       " Row(sepallength=6.7, sepalwidth=3.3, petallength=5.7, petalwidth=2.5, class=3),\n",
       " Row(sepallength=4.6, sepalwidth=3.4, petallength=1.4, petalwidth=0.3, class=1),\n",
       " Row(sepallength=5.0, sepalwidth=3.4, petallength=1.5, petalwidth=0.2, class=1),\n",
       " Row(sepallength=4.8, sepalwidth=3.4, petallength=1.6, petalwidth=0.2, class=1),\n",
       " Row(sepallength=5.4, sepalwidth=3.4, petallength=1.7, petalwidth=0.2, class=1),\n",
       " Row(sepallength=4.8, sepalwidth=3.4, petallength=1.9, petalwidth=0.2, class=1),\n",
       " Row(sepallength=5.0, sepalwidth=3.4, petallength=1.6, petalwidth=0.4, class=1),\n",
       " Row(sepallength=5.2, sepalwidth=3.4, petallength=1.4, petalwidth=0.2, class=1),\n",
       " Row(sepallength=5.4, sepalwidth=3.4, petallength=1.5, petalwidth=0.4, class=1),\n",
       " Row(sepallength=5.1, sepalwidth=3.4, petallength=1.5, petalwidth=0.2, class=1),\n",
       " Row(sepallength=6.0, sepalwidth=3.4, petallength=4.5, petalwidth=1.6, class=2),\n",
       " Row(sepallength=6.3, sepalwidth=3.4, petallength=5.6, petalwidth=2.4, class=3),\n",
       " Row(sepallength=6.2, sepalwidth=3.4, petallength=5.4, petalwidth=2.3, class=3),\n",
       " Row(sepallength=5.1, sepalwidth=3.5, petallength=1.4, petalwidth=0.3, class=1),\n",
       " Row(sepallength=5.2, sepalwidth=3.5, petallength=1.5, petalwidth=0.2, class=1),\n",
       " Row(sepallength=5.5, sepalwidth=3.5, petallength=1.3, petalwidth=0.2, class=1),\n",
       " Row(sepallength=5.0, sepalwidth=3.5, petallength=1.3, petalwidth=0.3, class=1),\n",
       " Row(sepallength=5.0, sepalwidth=3.5, petallength=1.6, petalwidth=0.6, class=1),\n",
       " Row(sepallength=5.0, sepalwidth=3.6, petallength=1.4, petalwidth=0.2, class=1),\n",
       " Row(sepallength=4.6, sepalwidth=3.6, petallength=1.0, petalwidth=0.2, class=1),\n",
       " Row(sepallength=7.2, sepalwidth=3.6, petallength=6.1, petalwidth=2.5, class=3),\n",
       " Row(sepallength=5.4, sepalwidth=3.7, petallength=1.5, petalwidth=0.2, class=1),\n",
       " Row(sepallength=5.1, sepalwidth=3.7, petallength=1.5, petalwidth=0.4, class=1),\n",
       " Row(sepallength=5.3, sepalwidth=3.7, petallength=1.5, petalwidth=0.2, class=1),\n",
       " Row(sepallength=5.7, sepalwidth=3.8, petallength=1.7, petalwidth=0.3, class=1),\n",
       " Row(sepallength=5.1, sepalwidth=3.8, petallength=1.5, petalwidth=0.3, class=1),\n",
       " Row(sepallength=5.1, sepalwidth=3.8, petallength=1.9, petalwidth=0.4, class=1),\n",
       " Row(sepallength=5.1, sepalwidth=3.8, petallength=1.6, petalwidth=0.2, class=1),\n",
       " Row(sepallength=7.7, sepalwidth=3.8, petallength=6.7, petalwidth=2.2, class=3),\n",
       " Row(sepallength=7.9, sepalwidth=3.8, petallength=6.4, petalwidth=2.0, class=3),\n",
       " Row(sepallength=5.4, sepalwidth=3.9, petallength=1.7, petalwidth=0.4, class=1),\n",
       " Row(sepallength=5.4, sepalwidth=3.9, petallength=1.3, petalwidth=0.4, class=1),\n",
       " Row(sepallength=5.8, sepalwidth=4.0, petallength=1.2, petalwidth=0.2, class=1),\n",
       " Row(sepallength=5.2, sepalwidth=4.1, petallength=1.5, petalwidth=0.1, class=1),\n",
       " Row(sepallength=5.5, sepalwidth=4.2, petallength=1.4, petalwidth=0.2, class=1),\n",
       " Row(sepallength=5.7, sepalwidth=4.4, petallength=1.5, petalwidth=0.4, class=1)]"
      ]
     },
     "execution_count": 23,
     "metadata": {},
     "output_type": "execute_result"
    }
   ],
   "source": [
    "sparkData.sort(\"sepalwidth\", ascending=True).collect()"
   ]
  },
  {
   "cell_type": "markdown",
   "metadata": {},
   "source": [
    "### Describe the Data"
   ]
  },
  {
   "cell_type": "code",
   "execution_count": 24,
   "metadata": {},
   "outputs": [
    {
     "name": "stdout",
     "output_type": "stream",
     "text": [
      "+-------+------------------+------------------+------------------+------------------+------------------+\n",
      "|summary|       sepallength|        sepalwidth|       petallength|        petalwidth|             class|\n",
      "+-------+------------------+------------------+------------------+------------------+------------------+\n",
      "|  count|               148|               148|               148|               148|               148|\n",
      "|   mean| 5.854729729729732|3.0513513513513524| 3.790540540540543| 1.212162162162163|2.0135135135135136|\n",
      "| stddev|0.8276953052263868|0.4349503821082591|1.7546570817500953|0.7593324498814156|0.8163839840050471|\n",
      "|    min|               4.3|               2.0|               1.0|               0.1|                 1|\n",
      "|    max|               7.9|               4.4|               6.9|               2.5|                 3|\n",
      "+-------+------------------+------------------+------------------+------------------+------------------+\n",
      "\n"
     ]
    }
   ],
   "source": [
    "sparkData.describe().show()"
   ]
  },
  {
   "cell_type": "code",
   "execution_count": 25,
   "metadata": {},
   "outputs": [
    {
     "name": "stdout",
     "output_type": "stream",
     "text": [
      "root\n",
      " |-- sepallength: double (nullable = true)\n",
      " |-- sepalwidth: double (nullable = true)\n",
      " |-- petallength: double (nullable = true)\n",
      " |-- petalwidth: double (nullable = true)\n",
      " |-- class: integer (nullable = true)\n",
      "\n"
     ]
    }
   ],
   "source": [
    "sparkData.printSchema()"
   ]
  },
  {
   "cell_type": "markdown",
   "metadata": {},
   "source": [
    "### Exploring New Data >>>>>>>>>>>>>>>>>>>>>>>>>>>>>>>>"
   ]
  },
  {
   "cell_type": "code",
   "execution_count": 15,
   "metadata": {},
   "outputs": [],
   "source": [
    "sparkDataLoan = sqlContext.read.format(\"com.databricks.spark.csv\").options(delimiter=',',header  = True ,inferSchema = True).load('C://Users//rvaish//Downloads//Loan//Data.csv')"
   ]
  },
  {
   "cell_type": "markdown",
   "metadata": {},
   "source": [
    "### Talking about Missing Values - Replace with Mean"
   ]
  },
  {
   "cell_type": "code",
   "execution_count": 16,
   "metadata": {},
   "outputs": [
    {
     "name": "stdout",
     "output_type": "stream",
     "text": [
      "+----------------------+\n",
      "|mths_since_last_record|\n",
      "+----------------------+\n",
      "|                  null|\n",
      "|                  null|\n",
      "|                  null|\n",
      "|                  null|\n",
      "|                  null|\n",
      "|                  null|\n",
      "|                  null|\n",
      "|                  null|\n",
      "|                  null|\n",
      "|                  null|\n",
      "+----------------------+\n",
      "only showing top 10 rows\n",
      "\n"
     ]
    }
   ],
   "source": [
    "sparkDataLoan[['mths_since_last_record']].show(10)"
   ]
  },
  {
   "cell_type": "code",
   "execution_count": 17,
   "metadata": {},
   "outputs": [
    {
     "data": {
      "text/plain": [
       "[('mths_since_last_record', 'int'),\n",
       " ('open_acc', 'int'),\n",
       " ('pub_rec', 'int'),\n",
       " ('revol_bal', 'int'),\n",
       " ('revol_util', 'string')]"
      ]
     },
     "execution_count": 17,
     "metadata": {},
     "output_type": "execute_result"
    }
   ],
   "source": [
    "sparkDataLoan.dtypes"
   ]
  },
  {
   "cell_type": "code",
   "execution_count": 23,
   "metadata": {},
   "outputs": [
    {
     "name": "stdout",
     "output_type": "stream",
     "text": [
      "+----------------------+--------+-------+---------+----------+\n",
      "|mths_since_last_record|open_acc|pub_rec|revol_bal|revol_util|\n",
      "+----------------------+--------+-------+---------+----------+\n",
      "|                    59|       3|      0|    13648|    83.70%|\n",
      "|                    59|       3|      0|     1687|     9.40%|\n",
      "|                    59|       2|      0|     2956|    98.50%|\n",
      "|                    59|      10|      0|     5598|       21%|\n",
      "|                    59|      15|      0|    27783|    53.90%|\n",
      "+----------------------+--------+-------+---------+----------+\n",
      "only showing top 5 rows\n",
      "\n"
     ]
    }
   ],
   "source": [
    "from pyspark.sql.functions import avg\n",
    "#type(sparkDataLoan.agg(avg(sparkDataLoan.mths_since_last_record)).collect()[0][0])\n",
    "\n",
    "sparkDataLoan = sparkDataLoan.na.fill(sparkDataLoan.agg(avg(sparkDataLoan.mths_since_last_record)).collect()[0][0], \"mths_since_last_record\")\n",
    "sparkDataLoan.show(5)"
   ]
  },
  {
   "cell_type": "markdown",
   "metadata": {},
   "source": [
    "### Spark Dataframes -> Pandas Dataframes"
   ]
  },
  {
   "cell_type": "code",
   "execution_count": 29,
   "metadata": {},
   "outputs": [],
   "source": [
    "import pandas"
   ]
  },
  {
   "cell_type": "code",
   "execution_count": 30,
   "metadata": {},
   "outputs": [],
   "source": [
    "panadadataframe = sparkDataLoan.toPandas()"
   ]
  },
  {
   "cell_type": "code",
   "execution_count": 31,
   "metadata": {},
   "outputs": [
    {
     "data": {
      "text/html": [
       "<div>\n",
       "<style scoped>\n",
       "    .dataframe tbody tr th:only-of-type {\n",
       "        vertical-align: middle;\n",
       "    }\n",
       "\n",
       "    .dataframe tbody tr th {\n",
       "        vertical-align: top;\n",
       "    }\n",
       "\n",
       "    .dataframe thead th {\n",
       "        text-align: right;\n",
       "    }\n",
       "</style>\n",
       "<table border=\"1\" class=\"dataframe\">\n",
       "  <thead>\n",
       "    <tr style=\"text-align: right;\">\n",
       "      <th></th>\n",
       "      <th>mths_since_last_record</th>\n",
       "      <th>open_acc</th>\n",
       "      <th>pub_rec</th>\n",
       "      <th>revol_bal</th>\n",
       "      <th>revol_util</th>\n",
       "    </tr>\n",
       "  </thead>\n",
       "  <tbody>\n",
       "    <tr>\n",
       "      <th>0</th>\n",
       "      <td>59</td>\n",
       "      <td>3.0</td>\n",
       "      <td>0.0</td>\n",
       "      <td>13648.0</td>\n",
       "      <td>83.70%</td>\n",
       "    </tr>\n",
       "    <tr>\n",
       "      <th>1</th>\n",
       "      <td>59</td>\n",
       "      <td>3.0</td>\n",
       "      <td>0.0</td>\n",
       "      <td>1687.0</td>\n",
       "      <td>9.40%</td>\n",
       "    </tr>\n",
       "    <tr>\n",
       "      <th>2</th>\n",
       "      <td>59</td>\n",
       "      <td>2.0</td>\n",
       "      <td>0.0</td>\n",
       "      <td>2956.0</td>\n",
       "      <td>98.50%</td>\n",
       "    </tr>\n",
       "  </tbody>\n",
       "</table>\n",
       "</div>"
      ],
      "text/plain": [
       "   mths_since_last_record  open_acc  pub_rec  revol_bal revol_util\n",
       "0                      59       3.0      0.0    13648.0     83.70%\n",
       "1                      59       3.0      0.0     1687.0      9.40%\n",
       "2                      59       2.0      0.0     2956.0     98.50%"
      ]
     },
     "execution_count": 31,
     "metadata": {},
     "output_type": "execute_result"
    }
   ],
   "source": [
    "panadadataframe.head(3)"
   ]
  },
  {
   "cell_type": "markdown",
   "metadata": {},
   "source": [
    "### Pandas Dataframes -> Spark Dataframes"
   ]
  },
  {
   "cell_type": "code",
   "execution_count": 37,
   "metadata": {},
   "outputs": [],
   "source": [
    "sparkdataframefrompandas = sqlContext.createDataFrame(panadadataframe)"
   ]
  },
  {
   "cell_type": "code",
   "execution_count": 38,
   "metadata": {},
   "outputs": [
    {
     "name": "stdout",
     "output_type": "stream",
     "text": [
      "+----------------------+--------+-------+---------+----------+\n",
      "|mths_since_last_record|open_acc|pub_rec|revol_bal|revol_util|\n",
      "+----------------------+--------+-------+---------+----------+\n",
      "|                    59|     3.0|    0.0|  13648.0|    83.70%|\n",
      "|                    59|     3.0|    0.0|   1687.0|     9.40%|\n",
      "|                    59|     2.0|    0.0|   2956.0|    98.50%|\n",
      "+----------------------+--------+-------+---------+----------+\n",
      "only showing top 3 rows\n",
      "\n"
     ]
    }
   ],
   "source": [
    "sparkdataframefrompandas.show(3)"
   ]
  },
  {
   "cell_type": "code",
   "execution_count": null,
   "metadata": {},
   "outputs": [],
   "source": []
  },
  {
   "cell_type": "code",
   "execution_count": null,
   "metadata": {},
   "outputs": [],
   "source": []
  }
 ],
 "metadata": {
  "kernelspec": {
   "display_name": "Python 3",
   "language": "python",
   "name": "python3"
  },
  "language_info": {
   "codemirror_mode": {
    "name": "ipython",
    "version": 3
   },
   "file_extension": ".py",
   "mimetype": "text/x-python",
   "name": "python",
   "nbconvert_exporter": "python",
   "pygments_lexer": "ipython3",
   "version": "3.6.4"
  }
 },
 "nbformat": 4,
 "nbformat_minor": 2
}
